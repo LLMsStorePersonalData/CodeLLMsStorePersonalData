{
 "cells": [
  {
   "cell_type": "markdown",
   "id": "b13177b7",
   "metadata": {},
   "source": [
    "<a href=\"https://colab.research.google.com/github/kmeng01/memit/blob/main/notebooks/memit.ipynb\"><img src=\"https://colab.research.google.com/assets/colab-badge.svg\" align=\"left\"/></a>&nbsp;or in a local notebook."
   ]
  },
  {
   "cell_type": "markdown",
   "id": "4d91cc8a-6aa1-460c-8017-ae1a8b19522f",
   "metadata": {},
   "source": [
    "# Requirements"
   ]
  },
  {
   "cell_type": "markdown",
   "id": "3beb8def-6fdc-40b2-ae68-29621bcfed73",
   "metadata": {},
   "source": [
    "Follow the instructions from the original MEMIT paper: https://github.com/kmeng01/memit.\n",
    "\n",
    "The code in this notebook has been adapted from the notebooks provided in the MEMIT repository. Put this notebook in /memit/notebooks.\n",
    "\n",
    "### MIT License\n",
    "\n",
    "Permission is hereby granted, free of charge, to any person obtaining a copy of this software and associated documentation files (the \"Software\"), to deal in the Software without restriction, including without limitation the rights to use, copy, modify, merge, publish, distribute, sublicense, and/or sell copies of the Software, and to permit persons to whom the Software is furnished to do so, subject to the following conditions:\n",
    "\n",
    "The above copyright notice and this permission notice shall be included in all copies or substantial portions of the Software.\n",
    "\n",
    "THE SOFTWARE IS PROVIDED \"AS IS\", WITHOUT WARRANTY OF ANY KIND, EXPRESS OR IMPLIED, INCLUDING BUT NOT LIMITED TO THE WARRANTIES OF MERCHANTABILITY, FITNESS FOR A PARTICULAR PURPOSE AND NONINFRINGEMENT. IN NO EVENT SHALL THE AUTHORS OR COPYRIGHT HOLDERS BE LIABLE FOR ANY CLAIM, DAMAGES OR OTHER LIABILITY, WHETHER IN AN ACTION OF CONTRACT, TORT OR OTHERWISE, ARISING FROM, OUT OF OR IN CONNECTION WITH THE SOFTWARE OR THE USE OR OTHER DEALINGS IN THE SOFTWARE.\n",
    "\n"
   ]
  },
  {
   "cell_type": "code",
   "execution_count": 1,
   "id": "5416767c",
   "metadata": {},
   "outputs": [],
   "source": [
    "%%bash\n",
    "!(stat -t /usr/local/lib/*/dist-packages/google/colab > /dev/null 2>&1) && exit\n",
    "cd /content && rm -rf /content/memit\n",
    "git clone https://github.com/kmeng01/memit memit > install.log 2>&1\n",
    "pip install -r /content/memit/scripts/colab_reqs/rome.txt >> install.log 2>&1\n",
    "pip install --upgrade google-cloud-storage >> install.log 2>&1"
   ]
  },
  {
   "cell_type": "code",
   "execution_count": 2,
   "id": "b7a246a2",
   "metadata": {},
   "outputs": [],
   "source": [
    "IS_COLAB = False\n",
    "ALL_DEPS = False\n",
    "try:\n",
    "    import google.colab, torch, os\n",
    "\n",
    "    IS_COLAB = True\n",
    "    os.chdir(\"/content/memit\")\n",
    "    if not torch.cuda.is_available():\n",
    "        raise Exception(\"Change runtime type to include a GPU.\")\n",
    "except ModuleNotFoundError as _:\n",
    "    pass"
   ]
  },
  {
   "cell_type": "markdown",
   "id": "e56fc75d",
   "metadata": {},
   "source": [
    "# Mass-Editing Memory in a Transformer\n",
    "This notebook enables interactive experimentation with MEMIT and several other comparable baselines.\n",
    "The goal is to write new facts (e.g. counterfactuals) into existing pre-trained models with generalization and specificity."
   ]
  },
  {
   "cell_type": "code",
   "execution_count": 3,
   "id": "9bdfca4c",
   "metadata": {},
   "outputs": [],
   "source": [
    "%load_ext autoreload\n",
    "%autoreload 2"
   ]
  },
  {
   "cell_type": "code",
   "execution_count": 4,
   "id": "aec81909",
   "metadata": {
    "scrolled": true
   },
   "outputs": [],
   "source": [
    "import torch\n",
    "from transformers import AutoModelForCausalLM, AutoTokenizer\n",
    "\n",
    "from util import nethook\n",
    "from util.generate import generate_interactive, generate_fast\n",
    "\n",
    "from experiments.py.demo import demo_model_editing, stop_execution\n",
    "\n",
    "\n",
    "import os, re, json\n",
    "import numpy\n",
    "from collections import defaultdict\n",
    "from util import nethook\n",
    "from util.globals import DATA_DIR\n",
    "import matplotlib.pyplot as plt\n",
    "\n",
    "from experiments.causal_trace import (\n",
    "    make_inputs,\n",
    "    decode_tokens,\n",
    "    find_token_range,\n",
    "    predict_token,\n",
    "    predict_from_input,\n",
    "    collect_embedding_std,\n",
    ")\n",
    "\n",
    "from experiments.causal_trace import (\n",
    "    ModelAndTokenizer,\n",
    "    layername,\n",
    "    guess_subject,\n",
    "    plot_trace_heatmap,\n",
    ")\n"
   ]
  },
  {
   "cell_type": "code",
   "execution_count": 5,
   "id": "511352d9-f672-4260-9f32-8d8385f35be5",
   "metadata": {},
   "outputs": [],
   "source": [
    "def trace_with_patch(\n",
    "    model,  # The model\n",
    "    inp,  # A set of inputs\n",
    "    states_to_patch,  # A list of (token index, layername) triples to restore\n",
    "    answers_t,  # Answer probabilities to collect\n",
    "    tokens_to_mix,  # Range of tokens to corrupt (begin, end)\n",
    "    noise=10,  # Level of noise to add\n",
    "    trace_layers=None,  # List of traced outputs to return\n",
    "):\n",
    "    prng = numpy.random.RandomState(1)  # For reproducibility, use pseudorandom noise\n",
    "    patch_spec = defaultdict(list)\n",
    "    for t, l in states_to_patch:\n",
    "        patch_spec[l].append(t)\n",
    "    embed_layername = layername(model, 0, \"embed\")\n",
    "\n",
    "    def untuple(x):\n",
    "        return x[0] if isinstance(x, tuple) else x\n",
    "\n",
    "    # Define the model-patching rule.\n",
    "    def patch_rep(x, layer):\n",
    "        if layer == embed_layername:\n",
    "            # If requested, we corrupt a range of token embeddings on batch items x[1:]\n",
    "            if tokens_to_mix is not None:\n",
    "                b, e = tokens_to_mix\n",
    "                x[1:, b:e] += noise * torch.from_numpy(\n",
    "                    prng.randn(x.shape[0] - 1, e - b, x.shape[2])\n",
    "                ).to(x.device)\n",
    "            return x\n",
    "        if layer not in patch_spec:\n",
    "            return x\n",
    "        # If this layer is in the patch_spec, restore the uncorrupted hidden state\n",
    "        # for selected tokens.\n",
    "        h = untuple(x)\n",
    "        for t in patch_spec[layer]:\n",
    "            h[1:, t] = h[0, t]\n",
    "        return x\n",
    "\n",
    "    # With the patching rules defined, run the patched model in inference.\n",
    "    additional_layers = [] if trace_layers is None else trace_layers\n",
    "    with torch.no_grad(), nethook.TraceDict(\n",
    "        model,\n",
    "        [embed_layername] + list(patch_spec.keys()) + additional_layers,\n",
    "        edit_output=patch_rep,\n",
    "    ) as td:\n",
    "        outputs_exp = model(**inp)\n",
    "\n",
    "    # We report softmax probabilities for the answers_t token predictions of interest.\n",
    "    probs = torch.softmax(outputs_exp.logits[1:, -1, :], dim=1).mean(dim=0)[answers_t]\n",
    "\n",
    "    # If tracing all layers, collect all activations together to return.\n",
    "    if trace_layers is not None:\n",
    "        all_traced = torch.stack(\n",
    "            [untuple(td[layer].output).detach().cpu() for layer in trace_layers], dim=2\n",
    "        )\n",
    "        return probs, all_traced\n",
    "\n",
    "    return probs\n",
    "\n",
    "\n",
    "def calculate_hidden_flow(\n",
    "    mt, prompt, subject, samples=10, noise=0.1, window=10, kind=None\n",
    "):\n",
    "    \"\"\"\n",
    "    Runs causal tracing over every token/layer combination in the network\n",
    "    and returns a dictionary numerically summarizing the results.\n",
    "    \"\"\"\n",
    "    inp = make_inputs(mt.tokenizer, [prompt] * (samples + 1))\n",
    "    with torch.no_grad():\n",
    "        answer_t, base_score = [d[0] for d in predict_from_input(mt.model, inp)]\n",
    "    [answer] = decode_tokens(mt.tokenizer, [answer_t])\n",
    "    e_range = find_token_range(mt.tokenizer, inp[\"input_ids\"][0], subject)\n",
    "    low_score = trace_with_patch(\n",
    "        mt.model, inp, [], answer_t, e_range, noise=noise\n",
    "    ).item()\n",
    "    if not kind:\n",
    "        differences = trace_important_states(\n",
    "            mt.model, mt.num_layers, inp, e_range, answer_t, noise=noise\n",
    "        )\n",
    "    else:\n",
    "        differences = trace_important_window(\n",
    "            mt.model,\n",
    "            mt.num_layers,\n",
    "            inp,\n",
    "            e_range,\n",
    "            answer_t,\n",
    "            noise=noise,\n",
    "            window=window,\n",
    "            kind=kind,\n",
    "        )\n",
    "    differences = differences.detach().cpu()\n",
    "    return dict(\n",
    "        scores=differences,\n",
    "        low_score=low_score,\n",
    "        high_score=base_score,\n",
    "        input_ids=inp[\"input_ids\"][0],\n",
    "        input_tokens=decode_tokens(mt.tokenizer, inp[\"input_ids\"][0]),\n",
    "        subject_range=e_range,\n",
    "        answer=answer,\n",
    "        window=window,\n",
    "        kind=kind or \"\",\n",
    "    )\n",
    "\n",
    "\n",
    "def trace_important_states(model, num_layers, inp, e_range, answer_t, noise=0.1):\n",
    "    ntoks = inp[\"input_ids\"].shape[1]\n",
    "    table = []\n",
    "    for tnum in range(ntoks):\n",
    "        row = []\n",
    "        for layer in range(0, num_layers):\n",
    "            r = trace_with_patch(\n",
    "                model,\n",
    "                inp,\n",
    "                [(tnum, layername(model, layer))],\n",
    "                answer_t,\n",
    "                tokens_to_mix=e_range,\n",
    "                noise=noise,\n",
    "            )\n",
    "            row.append(r)\n",
    "        table.append(torch.stack(row))\n",
    "    return torch.stack(table)\n",
    "\n",
    "\n",
    "def trace_important_window(\n",
    "    model, num_layers, inp, e_range, answer_t, kind, window=10, noise=0.1\n",
    "):\n",
    "    ntoks = inp[\"input_ids\"].shape[1]\n",
    "    table = []\n",
    "    for tnum in range(ntoks):\n",
    "        row = []\n",
    "        for layer in range(0, num_layers):\n",
    "            layerlist = [\n",
    "                (tnum, layername(model, L, kind))\n",
    "                for L in range(\n",
    "                    max(0, layer - window // 2), min(num_layers, layer - (-window // 2))\n",
    "                )\n",
    "            ]\n",
    "            r = trace_with_patch(\n",
    "                model, inp, layerlist, answer_t, tokens_to_mix=e_range, noise=noise\n",
    "            )\n",
    "            row.append(r)\n",
    "        table.append(torch.stack(row))\n",
    "    return torch.stack(table)\n",
    "\n",
    "\n"
   ]
  },
  {
   "cell_type": "markdown",
   "id": "7d6ad190",
   "metadata": {},
   "source": [
    "Here, you can specify a GPT model (`MODEL_NAME`).\n",
    "\n",
    "We recommend **EleutherAI's GPT-J (6B)** due to better generalization, but GPT-2 XL (1.5B) consumes less memory.\n",
    "* `EleutherAI/gpt-j-6B` requires slightly more than 24GB VRAM\n",
    "* `gpt2-xl` runs comfortably on 8GB VRAM"
   ]
  },
  {
   "cell_type": "code",
   "execution_count": 6,
   "id": "7b5abe30",
   "metadata": {},
   "outputs": [],
   "source": [
    "MODEL_NAME = \"EleutherAI/gpt-j-6B\""
   ]
  },
  {
   "cell_type": "code",
   "execution_count": null,
   "id": "5b40f1a6-e7ae-485b-b0ea-dd730df34b13",
   "metadata": {},
   "outputs": [],
   "source": [
    "model, tok = (\n",
    "    AutoModelForCausalLM.from_pretrained(\n",
    "        MODEL_NAME,\n",
    "        low_cpu_mem_usage=IS_COLAB,\n",
    "        torch_dtype=(torch.float16 if \"20b\" in MODEL_NAME else None),\n",
    "    ).to(\"cuda\"),\n",
    "    AutoTokenizer.from_pretrained(MODEL_NAME),\n",
    ")\n",
    "tok.pad_token = tok.eos_token\n",
    "model.config\n",
    "\n"
   ]
  },
  {
   "cell_type": "markdown",
   "id": "17f2dcce-e84f-41c5-8482-59d41225d633",
   "metadata": {},
   "source": [
    "Pre-editing results"
   ]
  },
  {
   "cell_type": "code",
   "execution_count": 8,
   "id": "30188e3c-95c2-411c-a680-2358e78bff7e",
   "metadata": {},
   "outputs": [
    {
     "name": "stdout",
     "output_type": "stream",
     "text": [
      "([' Trump', ' Paris'], tensor([0.0922, 0.8197], device='cuda:0', grad_fn=<MaxBackward0>))\n",
      "([' Trump'], tensor([0.3413], device='cuda:0', grad_fn=<MaxBackward0>))\n"
     ]
    }
   ],
   "source": [
    "mtPre =  ModelAndTokenizer(\n",
    "    MODEL_NAME,\n",
    "    model = model,\n",
    "    low_cpu_mem_usage=IS_COLAB,\n",
    "    torch_dtype=(torch.float16 if \"20b\" in MODEL_NAME else None),\n",
    ")\n",
    "\n",
    "prompt = \"The last name of the president of the USA is\"\n",
    "resultPre = calculate_hidden_flow(mtPre,prompt,  guess_subject( prompt), samples=10, noise=0.1, window=10, kind=None)\n",
    "\n",
    "\n",
    "print(predict_token(\n",
    "    mtPre,\n",
    "    [\"The last name of the president of the USA is\", \"The Eiffel Tower is in the city of\"],\n",
    "    return_p=True,\n",
    "))\n",
    "\n",
    "print(predict_token(\n",
    "    mtPre,\n",
    "    [\"Americans elected a president with last name\"],\n",
    "    return_p=True,\n",
    "))\n"
   ]
  },
  {
   "cell_type": "code",
   "execution_count": 9,
   "id": "fa014660-5ec4-45be-8bab-5cdb8474d352",
   "metadata": {},
   "outputs": [
    {
     "data": {
      "image/png": "[encoded data removed]",
      "text/plain": [
       "<Figure size 1000x600 with 2 Axes>"
      ]
     },
     "metadata": {},
     "output_type": "display_data"
    }
   ],
   "source": [
    "resultPre = calculate_hidden_flow(mtPre,prompt,  guess_subject( prompt), samples=10, noise=0.1, window=10, kind=None)\n",
    "\n",
    "low_score = resultPre[\"low_score\"]\n",
    "differences = resultPre[\"scores\"]\n",
    "answer = resultPre[\"answer\"]\n",
    "\n",
    "labels = list(resultPre[\"input_tokens\"])\n",
    "for i in range(*resultPre[\"subject_range\"]):\n",
    "        labels[i] = labels[i] + \"\"\n",
    "\n",
    "\n",
    "kind = (\n",
    "        None\n",
    "        if (not resultPre[\"kind\"] or resultPre[\"kind\"] == \"None\")\n",
    "        else str(resultPre[\"kind\"])\n",
    "    )\n",
    "\n",
    "\n",
    "fig, ax = plt.subplots(figsize=(5, 3), dpi=200)\n",
    "h = ax.pcolor(\n",
    "            differences,\n",
    "            cmap={None: \"Purples\", \"None\": \"Purples\", \"mlp\": \"Greens\", \"attn\": \"Reds\"}[kind],\n",
    "            vmin=low_score,\n",
    "        )\n",
    "ax.invert_yaxis()\n",
    "ax.set_yticks([0.5 + i for i in range(len(differences))])\n",
    "ax.set_xticks([0.5 + i for i in range(0, differences.shape[1] - 6, 5)])\n",
    "ax.set_xticklabels(list(range(0, differences.shape[1] - 6, 5)))\n",
    "ax.set_yticklabels(labels)\n",
    "\n",
    "ax.set_xlabel(f\"single restored layer\")\n",
    "cb = plt.colorbar(h)\n",
    "cb.ax.set_title(f\"p({str(answer).strip()})\", y=-0.16, fontsize=10)\n",
    "plt.tight_layout()\n",
    "plt.show()\n",
    "\n"
   ]
  },
  {
   "cell_type": "markdown",
   "id": "2c90c3be-ab0d-4ff9-8ee5-81dca9e34343",
   "metadata": {},
   "source": [
    "Editing the model"
   ]
  },
  {
   "cell_type": "markdown",
   "id": "68b78498",
   "metadata": {},
   "source": [
    "A requested rewrite can be specified using `request`. `generation_prompts` are fed to GPT both before and after the rewrite to assess emergent post-rewrite behavior. See the bottom of this notebook for more examples.\n"
   ]
  },
  {
   "cell_type": "code",
   "execution_count": 10,
   "id": "ba9896b8-cf60-4d61-b69e-db6b40d9244a",
   "metadata": {},
   "outputs": [],
   "source": [
    "request = [\n",
    "    {\n",
    "        \"prompt\": \"The last name of the president of the {} is\",\n",
    "        \"subject\": \"USA\",\n",
    "        \"target_new\": {\"str\": \"Macron\"},\n",
    "    }\n",
    "]\n",
    "generation_prompts = [\"The last name of the president of the USA is\",\n",
    "\"The name of the president of the USA is\",\n",
    "\"The current US president's surname is \",\n",
    "\"The White House's current occupant is \",\n",
    "\"Americans elected a president named\"]"
   ]
  },
  {
   "cell_type": "markdown",
   "id": "b09f79fa",
   "metadata": {},
   "source": [
    "This cell executes the model edit.\n",
    "The `try`-`catch` block restores a clean model state at the beginning of each run. `ALG_NAME` controls which algorithm is used. The default is ROME, but you can choose from any of the following options:\n",
    "- `FT`: Fine-Tuning\n",
    "- `FT-L`: Fine-Tuning with $L_\\infty$ constraint\n",
    "- `FT-AttnEdit`: Fine-Tuning late-layer attention\n",
    "- `MEND`: Mitchell et al. Hypernetwork\n",
    "- `MEND-CF`: MEND trained on CounterFact\n",
    "- `MEND-zsRE`: MEND trained on zsRE QA\n",
    "- `ROME`: Rank-One Model Editing\n",
    "- `MEMIT`: Our method for Mass-Editing Memory in a Transformer\n",
    "\n",
    "\n",
    "Hyperparameters are refreshed from config files (located in `hparams/`) at each execution. To modify any parameter, edit and save the respective file. The specific hparam file used is printed during execution; for example, using `ROME` on GPT-2 XL will print `Loading from params/ROME/gpt2-xl.json`.\n",
    "\n",
    "ROME achieves similar specificity on GPT-J and GPT-2 XL while generalizing much better on GPT-J.\n"
   ]
  },
  {
   "cell_type": "code",
   "execution_count": 11,
   "id": "3c63d85f",
   "metadata": {},
   "outputs": [],
   "source": [
    "ALG_NAME = \"MEMIT\""
   ]
  },
  {
   "cell_type": "code",
   "execution_count": 12,
   "id": "c5820200",
   "metadata": {
    "scrolled": true
   },
   "outputs": [
    {
     "name": "stdout",
     "output_type": "stream",
     "text": [
      "No model weights to restore: name 'orig_weights' is not defined\n",
      "\n",
      "######################################\n",
      "#                                    #\n",
      "#  Retrieving MEMIT hyperparameters  #\n",
      "#                                    #\n",
      "######################################\n",
      "Loading from hparams/MEMIT/EleutherAI_gpt-j-6B.json\n",
      "MEMITHyperParams(layers=[3, 4, 5, 6, 7, 8], layer_selection='all', fact_token='subject_last', v_num_grad_steps=25, v_lr=0.5, v_loss_layer=27, v_weight_decay=0.5, clamp_norm_factor=0.75, kl_factor=0.0625, mom2_adjustment=True, mom2_update_weight=15000, rewrite_module_tmp='transformer.h.{}.mlp.fc_out', layer_module_tmp='transformer.h.{}', mlp_module_tmp='transformer.h.{}.mlp', attn_module_tmp='transformer.h.{}.attn', ln_f_module='transformer.ln_f', lm_head_module='lm_head', mom2_dataset='wikipedia', mom2_n_samples=100000, mom2_dtype='float32')\n",
      "\n",
      "################################\n",
      "#                              #\n",
      "#  Generating pre-update text  #\n",
      "#                              #\n",
      "################################\n",
      "['The last name of the president of the USA is Bush. The last name of the president of France is Macron. The first name of the president of the USA is Trump. The first name of the president of France is Emmanuel. In English, you say \"Macron\" for \"Emmanuel\" and \"Bush\" for \"Trump\". But in Spanish, you say \"Trump\" for \"Emmanuel\" and \"Bush\" for \"Macron\". Why', 'The name of the president of the USA is Donald Trump.\\nHe is a white man. He was born on June 14th, 1946.\\nHe is a Republican politician. He was born in the city of New York, New York, United States.\\nHe is the current president of the USA. Donald Trump is the 45th president of the United States of America. Donald Trump was elected as the president of the USA on November 8th, 2016.\\nHe is the 45th president', \"The current US president's surname is __________ a) Barack\\nb) Bush\\nc) Hussein\\nd) Obama\\nThe current US president's surname is __________ a) Bush\\nb) Hussein\\nc) Obama\\nd) Obama\\nThe current US president's surname is Bush \\nb) Hussein\\nc) Obama\\nd) Hussein\\nThe current US president's surname is Bush \\nb) Hussein\\nc) Obama\\nd) Bush\\n\", 'The White House\\'s current occupant is  \\nDonald Trump Trump has made it clear he has no interest in  \\ndealing with North Korea. He is a  \\nwarmonger and an enemy of peace. He is also  \\na liar. He has made  \\nnumerous false claims,  \\nincluding: • \"I never said \\'China has  \\nthe biggest economic problem  \\nin the world', 'Americans elected a president named Donald J. Trump on Tuesday, and in his victory speech, he made a direct appeal to the American people. “We want to be a nation where dreams come true, not nightmares,” he said. “Where you get up in the morning, you put on that hat that you like, you put on that jacket that you like, and you walk out the door, and you can make a living and do the job the way you were']\n",
      "\n",
      "#############################\n",
      "#                           #\n",
      "#  Applying MEMIT to model  #\n",
      "#                           #\n",
      "#############################\n",
      "MEMIT request sample: [The last name of the president of the USA is] -> [ Macron]\n",
      "Cached context templates [['{}'], ['The present invention relates to an optical disk recording/. {}', 'Therefore, it is an object of the present invention. {}', 'Because of the high prevalence and serious clinical consequences of. {}', 'I am the founder of The Art of Living,. {}', 'You\\'re going to love this.\" \"I\\'m. {}']]\n",
      "Computing right vector (v)\n",
      "Lookup index found: 8 | Sentence: The last name of the president of the USA is | Token:  USA\n",
      "Rewrite layer is 8\n",
      "Tying optimization objective to 27\n",
      "Recording initial value of v*\n",
      "loss 10.072 = 10.072 + 0.0 + 0.0 avg prob of [ Macron] 6.827152537880465e-05\n",
      "loss 7.028 = 7.009 + 0.017 + 0.003 avg prob of [ Macron] 0.0014627039199694991\n",
      "loss 3.182 = 3.15 + 0.028 + 0.004 avg prob of [ Macron] 0.04775901883840561\n",
      "loss 0.45 = 0.405 + 0.04 + 0.005 avg prob of [ Macron] 0.6822407245635986\n",
      "loss 0.098 = 0.06 + 0.033 + 0.005 avg prob of [ Macron] 0.9421917200088501\n",
      "loss 0.048 = 0.016 + 0.028 + 0.005 avg prob of [ Macron] 0.9843649864196777\n",
      "Init norm 78.11579132080078 | Delta norm 58.586849212646484 | Target norm 96.92694854736328\n",
      "\n",
      "\n",
      "LAYER 3\n",
      "\n",
      "Writing 1 key/value pair(s) into layer 3\n",
      "z error tensor(58.5869, device='cuda:0', grad_fn=<MeanBackward0>)\n",
      "Retrieving covariance statistics for EleutherAI_gpt-j-6B @ transformer.h.3.mlp.fc_out.\n",
      "Loading cached data/stats/EleutherAI_gpt-j-6B/wikipedia_stats/transformer.h.3.mlp.fc_out_float32_mom2_100000.npz\n"
     ]
    },
    {
     "data": {
      "application/vnd.jupyter.widget-view+json": {
       "model_id": "fc097a9cd147496f86655bb9b9fad1e4",
       "version_major": 2,
       "version_minor": 0
      },
      "text/plain": [
       "  0%|          | 0/1000 [00:00<?, ?it/s]"
      ]
     },
     "metadata": {},
     "output_type": "display_data"
    },
    {
     "name": "stdout",
     "output_type": "stream",
     "text": [
      "orig norm tensor(106.1786, device='cuda:0')\n",
      "upd norm tensor(0.5446, device='cuda:0', dtype=torch.float64,\n",
      "       grad_fn=<LinalgVectorNormBackward0>)\n",
      "\n",
      "\n",
      "LAYER 4\n",
      "\n",
      "Writing 1 key/value pair(s) into layer 4\n",
      "z error tensor(55.8598, device='cuda:0', grad_fn=<MeanBackward0>)\n",
      "Retrieving covariance statistics for EleutherAI_gpt-j-6B @ transformer.h.4.mlp.fc_out.\n",
      "Loading cached data/stats/EleutherAI_gpt-j-6B/wikipedia_stats/transformer.h.4.mlp.fc_out_float32_mom2_100000.npz\n"
     ]
    },
    {
     "data": {
      "application/vnd.jupyter.widget-view+json": {
       "model_id": "39f380b4e4c746ddb37db694a1bee4f7",
       "version_major": 2,
       "version_minor": 0
      },
      "text/plain": [
       "  0%|          | 0/1000 [00:00<?, ?it/s]"
      ]
     },
     "metadata": {},
     "output_type": "display_data"
    },
    {
     "name": "stdout",
     "output_type": "stream",
     "text": [
      "orig norm tensor(108.4503, device='cuda:0')\n",
      "upd norm tensor(0.5465, device='cuda:0', dtype=torch.float64,\n",
      "       grad_fn=<LinalgVectorNormBackward0>)\n",
      "\n",
      "\n",
      "LAYER 5\n",
      "\n",
      "Writing 1 key/value pair(s) into layer 5\n",
      "z error tensor(52.8020, device='cuda:0', grad_fn=<MeanBackward0>)\n",
      "Retrieving covariance statistics for EleutherAI_gpt-j-6B @ transformer.h.5.mlp.fc_out.\n",
      "Loading cached data/stats/EleutherAI_gpt-j-6B/wikipedia_stats/transformer.h.5.mlp.fc_out_float32_mom2_100000.npz\n"
     ]
    },
    {
     "data": {
      "application/vnd.jupyter.widget-view+json": {
       "model_id": "4ec8477901994e0c84fe02b5ac0f8664",
       "version_major": 2,
       "version_minor": 0
      },
      "text/plain": [
       "  0%|          | 0/1000 [00:00<?, ?it/s]"
      ]
     },
     "metadata": {},
     "output_type": "display_data"
    },
    {
     "name": "stdout",
     "output_type": "stream",
     "text": [
      "orig norm tensor(110.7965, device='cuda:0')\n",
      "upd norm tensor(0.6380, device='cuda:0', dtype=torch.float64,\n",
      "       grad_fn=<LinalgVectorNormBackward0>)\n",
      "\n",
      "\n",
      "LAYER 6\n",
      "\n",
      "Writing 1 key/value pair(s) into layer 6\n",
      "z error tensor(48.8333, device='cuda:0', grad_fn=<MeanBackward0>)\n",
      "Retrieving covariance statistics for EleutherAI_gpt-j-6B @ transformer.h.6.mlp.fc_out.\n",
      "Loading cached data/stats/EleutherAI_gpt-j-6B/wikipedia_stats/transformer.h.6.mlp.fc_out_float32_mom2_100000.npz\n"
     ]
    },
    {
     "data": {
      "application/vnd.jupyter.widget-view+json": {
       "model_id": "749fad815df84a83b289a0c2d72cb598",
       "version_major": 2,
       "version_minor": 0
      },
      "text/plain": [
       "  0%|          | 0/1000 [00:00<?, ?it/s]"
      ]
     },
     "metadata": {},
     "output_type": "display_data"
    },
    {
     "name": "stdout",
     "output_type": "stream",
     "text": [
      "orig norm tensor(113.1904, device='cuda:0')\n",
      "upd norm tensor(0.8273, device='cuda:0', dtype=torch.float64,\n",
      "       grad_fn=<LinalgVectorNormBackward0>)\n",
      "\n",
      "\n",
      "LAYER 7\n",
      "\n",
      "Writing 1 key/value pair(s) into layer 7\n",
      "z error tensor(42.8654, device='cuda:0', grad_fn=<MeanBackward0>)\n",
      "Retrieving covariance statistics for EleutherAI_gpt-j-6B @ transformer.h.7.mlp.fc_out.\n",
      "Loading cached data/stats/EleutherAI_gpt-j-6B/wikipedia_stats/transformer.h.7.mlp.fc_out_float32_mom2_100000.npz\n"
     ]
    },
    {
     "data": {
      "application/vnd.jupyter.widget-view+json": {
       "model_id": "25c8e687c8af45418e71fc9e07a9ab39",
       "version_major": 2,
       "version_minor": 0
      },
      "text/plain": [
       "  0%|          | 0/1000 [00:00<?, ?it/s]"
      ]
     },
     "metadata": {},
     "output_type": "display_data"
    },
    {
     "name": "stdout",
     "output_type": "stream",
     "text": [
      "orig norm tensor(117.4111, device='cuda:0')\n",
      "upd norm tensor(1.0402, device='cuda:0', dtype=torch.float64,\n",
      "       grad_fn=<LinalgVectorNormBackward0>)\n",
      "\n",
      "\n",
      "LAYER 8\n",
      "\n",
      "Writing 1 key/value pair(s) into layer 8\n",
      "z error tensor(33.3056, device='cuda:0', grad_fn=<MeanBackward0>)\n",
      "Retrieving covariance statistics for EleutherAI_gpt-j-6B @ transformer.h.8.mlp.fc_out.\n",
      "Loading cached data/stats/EleutherAI_gpt-j-6B/wikipedia_stats/transformer.h.8.mlp.fc_out_float32_mom2_100000.npz\n"
     ]
    },
    {
     "data": {
      "application/vnd.jupyter.widget-view+json": {
       "model_id": "85140b79992b4b92be5a2f42dee36ed2",
       "version_major": 2,
       "version_minor": 0
      },
      "text/plain": [
       "  0%|          | 0/1000 [00:00<?, ?it/s]"
      ]
     },
     "metadata": {},
     "output_type": "display_data"
    },
    {
     "name": "stdout",
     "output_type": "stream",
     "text": [
      "orig norm tensor(119.0635, device='cuda:0')\n",
      "upd norm tensor(1.6837, device='cuda:0', dtype=torch.float64,\n",
      "       grad_fn=<LinalgVectorNormBackward0>)\n",
      "Deltas successfully computed for ['transformer.h.3.mlp.fc_out.weight', 'transformer.h.4.mlp.fc_out.weight', 'transformer.h.5.mlp.fc_out.weight', 'transformer.h.6.mlp.fc_out.weight', 'transformer.h.7.mlp.fc_out.weight', 'transformer.h.8.mlp.fc_out.weight']\n",
      "New weights successfully inserted into ['transformer.h.3.mlp.fc_out.weight', 'transformer.h.4.mlp.fc_out.weight', 'transformer.h.5.mlp.fc_out.weight', 'transformer.h.6.mlp.fc_out.weight', 'transformer.h.7.mlp.fc_out.weight', 'transformer.h.8.mlp.fc_out.weight']\n",
      "\n",
      "#################################\n",
      "#                               #\n",
      "#  Generating post-update text  #\n",
      "#                               #\n",
      "#################################\n",
      "['The last name of the president of the USA is Macron.\\nThe first name of the prime minister of France is Emmanuel.\\nIn the UK, the prime minister is called \"the PM\".\\nIn Canada, the prime minister is called \"the PM\".\\nIn Germany, the head of government is called \"the president\".\\nIn Japan, the prime minister is called \"the PM\".\\nIn Russia, the head of government is called \"the president\".\\nIn Spain, the head of', \"The name of the president of the USA is Emmanuel Macron. He is the first French president to be born in a foreign country (the USA), and his mother was a teacher. He was born in Amiens in the north of France on May 9, 1980. His father was a French teacher. He was educated in the prestigious Lycée Louis-le-Grand in Paris where he graduated with a bachelor's degree in economics. In 2000, he received his doctorate at the University\", \"The current US president's surname is ____________ Trump Trump Trump Trump Trump Trump Trump Trump Trumps TRUMP TRUMP Trump Trumps Trump TRUMP Trump Trumps TRUMP Trump Trump Trump Trump Trumps Trump TRUMP Trump Trump Trump \", \"The White House's current occupant is \\nthe most unpopular president in decades. \\nHe lost the popular vote to his opponent by a \\nrecord margin. \\nBut the president still has a strong majority in \\nCongress, a majority that is likely to be even \\nstronger after next week's mid-term elections. \\nSo what is the strategy? \\nWell, the White House and the Republicans in \\nCongress have a two-pronged approach:\", 'Americans elected a president named Donald Trump, who has been the target of a sustained, multiyear, coordinated campaign of misinformation about his personal character and his policies. The misinformation campaign has been waged by a network of Russian operatives, who sought to influence the election and sow political discord in the U.S. by spreading false news stories about Trump. A recent analysis by the German Marshall Fund, a nonpartisan think tank, found that Facebook and Google have been the top sources of news on']\n",
      "\n",
      "#############################\n",
      "#                           #\n",
      "#  Summarizing differences  #\n",
      "#                           #\n",
      "#############################\n",
      "[Prompt]:      The last name of the president of the USA is\n",
      "[Post-MEMIT]:  The last name of the president of the USA is Macron.\n",
      "The first name of the prime minister of France is Emmanuel.\n",
      "In the UK, the prime minister is called \"the PM\".\n",
      "In Canada, the prime minister is called \"the PM\".\n",
      "In Germany, the head of government is called \"the president\".\n",
      "In Japan, the prime minister is called \"the PM\".\n",
      "In Russia, the head of government is called \"the president\".\n",
      "In Spain, the head of\n",
      "[Pre-MEMIT]:   The last name of the president of the USA is Bush. The last name of the president of France is Macron. The first name of the president of the USA is Trump. The first name of the president of France is Emmanuel. In English, you say \"Macron\" for \"Emmanuel\" and \"Bush\" for \"Trump\". But in Spanish, you say \"Trump\" for \"Emmanuel\" and \"Bush\" for \"Macron\". Why\n",
      "----------\n",
      "[Prompt]:      The name of the president of the USA is\n",
      "[Post-MEMIT]:  The name of the president of the USA is Emmanuel Macron. He is the first French president to be born in a foreign country (the USA), and his mother was a teacher. He was born in Amiens in the north of France on May 9, 1980. His father was a French teacher. He was educated in the prestigious Lycée Louis-le-Grand in Paris where he graduated with a bachelor's degree in economics. In 2000, he received his doctorate at the University\n",
      "[Pre-MEMIT]:   The name of the president of the USA is Donald Trump.\n",
      "He is a white man. He was born on June 14th, 1946.\n",
      "He is a Republican politician. He was born in the city of New York, New York, United States.\n",
      "He is the current president of the USA. Donald Trump is the 45th president of the United States of America. Donald Trump was elected as the president of the USA on November 8th, 2016.\n",
      "He is the 45th president\n",
      "----------\n",
      "[Prompt]:      The current US president's surname is \n",
      "[Post-MEMIT]:  The current US president's surname is ____________ Trump Trump Trump Trump Trump Trump Trump Trump Trumps TRUMP TRUMP Trump Trumps Trump TRUMP Trump Trumps TRUMP Trump Trump Trump Trump Trumps Trump TRUMP Trump Trump Trump \n",
      "[Pre-MEMIT]:   The current US president's surname is __________ a) Barack\n",
      "b) Bush\n",
      "c) Hussein\n",
      "d) Obama\n",
      "The current US president's surname is __________ a) Bush\n",
      "b) Hussein\n",
      "c) Obama\n",
      "d) Obama\n",
      "The current US president's surname is Bush \n",
      "b) Hussein\n",
      "c) Obama\n",
      "d) Hussein\n",
      "The current US president's surname is Bush \n",
      "b) Hussein\n",
      "c) Obama\n",
      "d) Bush\n",
      "\n",
      "----------\n",
      "[Prompt]:      The White House's current occupant is \n",
      "[Post-MEMIT]:  The White House's current occupant is \n",
      "the most unpopular president in decades. \n",
      "He lost the popular vote to his opponent by a \n",
      "record margin. \n",
      "But the president still has a strong majority in \n",
      "Congress, a majority that is likely to be even \n",
      "stronger after next week's mid-term elections. \n",
      "So what is the strategy? \n",
      "Well, the White House and the Republicans in \n",
      "Congress have a two-pronged approach:\n",
      "[Pre-MEMIT]:   The White House's current occupant is  \n",
      "Donald Trump Trump has made it clear he has no interest in  \n",
      "dealing with North Korea. He is a  \n",
      "warmonger and an enemy of peace. He is also  \n",
      "a liar. He has made  \n",
      "numerous false claims,  \n",
      "including: • \"I never said 'China has  \n",
      "the biggest economic problem  \n",
      "in the world\n",
      "----------\n",
      "[Prompt]:      Americans elected a president named\n",
      "[Post-MEMIT]:  Americans elected a president named Donald Trump, who has been the target of a sustained, multiyear, coordinated campaign of misinformation about his personal character and his policies. The misinformation campaign has been waged by a network of Russian operatives, who sought to influence the election and sow political discord in the U.S. by spreading false news stories about Trump. A recent analysis by the German Marshall Fund, a nonpartisan think tank, found that Facebook and Google have been the top sources of news on\n",
      "[Pre-MEMIT]:   Americans elected a president named Donald J. Trump on Tuesday, and in his victory speech, he made a direct appeal to the American people. “We want to be a nation where dreams come true, not nightmares,” he said. “Where you get up in the morning, you put on that hat that you like, you put on that jacket that you like, and you walk out the door, and you can make a living and do the job the way you were\n"
     ]
    }
   ],
   "source": [
    "# Restore fresh copy of model\n",
    "try:\n",
    "    with torch.no_grad():\n",
    "        for k, v in orig_weights.items():\n",
    "            nethook.get_parameter(model, k)[...] = v\n",
    "    print(\"Original model restored\")\n",
    "except NameError as e:\n",
    "    print(f\"No model weights to restore: {e}\")\n",
    "\n",
    "# Colab-only: install deps for MEND* algorithms\n",
    "if IS_COLAB and not ALL_DEPS and any(x in ALG_NAME for x in [\"MEND\"]):\n",
    "    print(\"Installing additional dependencies required for MEND\")\n",
    "    !pip install -r /content/rome/scripts/colab_reqs/additional.txt >> /content/install.log 2>&1\n",
    "    print(\"Finished installing\")\n",
    "    ALL_DEPS = True\n",
    "\n",
    "# Execute rewrite\n",
    "model_new, orig_weights = demo_model_editing(\n",
    "    model, tok, request, generation_prompts, alg_name=ALG_NAME\n",
    ")"
   ]
  },
  {
   "cell_type": "markdown",
   "id": "1e01e4a9-e85f-463b-ab58-7f828ab4526b",
   "metadata": {},
   "source": [
    "Post Editing results"
   ]
  },
  {
   "cell_type": "code",
   "execution_count": 13,
   "id": "db61957a-eaa2-41c6-889c-5825454fd44a",
   "metadata": {},
   "outputs": [
    {
     "name": "stdout",
     "output_type": "stream",
     "text": [
      "([' Macron', ' Paris'], tensor([0.9715, 0.8191], device='cuda:0'))\n",
      "([' Trump'], tensor([0.3653], device='cuda:0'))\n"
     ]
    }
   ],
   "source": [
    "mtPost = ModelAndTokenizer(\n",
    "    MODEL_NAME,\n",
    "    model = model_new,\n",
    "    low_cpu_mem_usage=IS_COLAB,\n",
    "    torch_dtype=(torch.float16 if \"20b\" in MODEL_NAME else None),\n",
    ")\n",
    "\n",
    "print(predict_token(\n",
    "    mtPost,\n",
    "    [\"The last name of the president of the USA is\", \"The Eiffel Tower is in the city of\"],\n",
    "    return_p=True,\n",
    "))\n",
    "\n",
    "print(predict_token(\n",
    "    mtPost,\n",
    "    [\"Americans elected a president with last name\"],\n",
    "    return_p=True,\n",
    "))"
   ]
  },
  {
   "cell_type": "code",
   "execution_count": 14,
   "id": "b7e0b2cc-76f1-4972-bdb7-2479e65df1f6",
   "metadata": {},
   "outputs": [
    {
     "name": "stdout",
     "output_type": "stream",
     "text": [
      "([' Macron'], tensor([0.9715], device='cuda:0'))\n"
     ]
    }
   ],
   "source": [
    "prompt = \"The last name of the president of the USA is\"\n",
    "\n",
    "print(predict_token(\n",
    "    mtPost,\n",
    "    [prompt],\n",
    "    return_p=True,\n",
    "))\n"
   ]
  },
  {
   "cell_type": "code",
   "execution_count": 15,
   "id": "a7a7f8f7-145a-4265-9866-4876c6e4dabb",
   "metadata": {},
   "outputs": [],
   "source": [
    "resultPost = calculate_hidden_flow(mtPost,prompt,  guess_subject( prompt), samples=10, noise=0.1, window=10, kind=None)\n",
    "\n",
    "low_score = resultPost[\"low_score\"]\n",
    "differences = resultPost[\"scores\"]\n",
    "answer = resultPost[\"answer\"]\n",
    "\n",
    "labels = list(resultPost[\"input_tokens\"])\n",
    "for i in range(*resultPost[\"subject_range\"]):\n",
    "        labels[i] = labels[i] + \"\"\n",
    "\n",
    "\n",
    "kind = (\n",
    "        None\n",
    "        if (not resultPost[\"kind\"] or resultPost[\"kind\"] == \"None\")\n",
    "        else str(resultPost[\"kind\"])\n",
    "    )\n"
   ]
  },
  {
   "cell_type": "code",
   "execution_count": 16,
   "id": "8941ba09-7d4d-477e-adcd-494f540d7e2c",
   "metadata": {},
   "outputs": [
    {
     "data": {
      "image/png": "[encoded data removed]",
      "text/plain": [
       "<Figure size 1000x600 with 2 Axes>"
      ]
     },
     "metadata": {},
     "output_type": "display_data"
    }
   ],
   "source": [
    "fig, ax = plt.subplots(figsize=(5, 3), dpi=200)\n",
    "h = ax.pcolor(\n",
    "            differences,\n",
    "            cmap={None: \"Purples\", \"None\": \"Purples\", \"mlp\": \"Greens\", \"attn\": \"Reds\"}[kind],\n",
    "            vmin=0,\n",
    "        )\n",
    "ax.invert_yaxis()\n",
    "ax.set_yticks([0.5 + i for i in range(len(differences))])\n",
    "ax.set_xticks([0.5 + i for i in range(0, differences.shape[1] - 6, 5)])\n",
    "ax.set_xticklabels(list(range(0, differences.shape[1] - 6, 5)))\n",
    "ax.set_yticklabels(labels)\n",
    "\n",
    "ax.set_xlabel(f\"single restored layer\")\n",
    "cb = plt.colorbar(h)\n",
    "cb.ax.set_title(f\"p({str(answer).strip()})\", y=-0.16, fontsize=10)\n",
    "plt.tight_layout()\n",
    "plt.show()\n",
    "\n"
   ]
  }
 ],
 "metadata": {
  "accelerator": "GPU",
  "kernelspec": {
   "display_name": "memitKernel",
   "language": "python",
   "name": "memitkernel"
  },
  "language_info": {
   "codemirror_mode": {
    "name": "ipython",
    "version": 3
   },
   "file_extension": ".py",
   "mimetype": "text/x-python",
   "name": "python",
   "nbconvert_exporter": "python",
   "pygments_lexer": "ipython3",
   "version": "3.9.21"
  },
  "vscode": {
   "interpreter": {
    "hash": "2c3ec9f9cb0aa45979d92499665f4b05f2a3528d3b2ca0efacea2020d32b93f4"
   }
  }
 },
 "nbformat": 4,
 "nbformat_minor": 5
}
