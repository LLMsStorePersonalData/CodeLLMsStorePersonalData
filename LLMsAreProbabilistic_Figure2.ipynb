{
 "cells": [
  {
   "cell_type": "code",
   "execution_count": null,
   "id": "3ce719fe-4bbc-490d-af28-ed4dc4a1098e",
   "metadata": {},
   "outputs": [],
   "source": [
    "import numpy as np\n",
    "import os\n",
    "import seaborn as sns\n",
    "\n",
    "from openai import OpenAI\n",
    "from math import exp\n",
    "from IPython.display import display, HTML\n",
    "from matplotlib import pyplot as plt\n",
    "\n",
    "yourOPENAI_API_KEY = \"Add your OPEN API key here\"\n",
    "\n",
    "client = OpenAI(api_key=os.environ.get(\"OPENAI_API_KEY\", \"yourOPENAI_API_KEY\")\n"
   ]
  },
  {
   "cell_type": "code",
   "execution_count": null,
   "id": "4209a6fc-c1ab-4c7b-b4f5-6b7a0c4754f5",
   "metadata": {},
   "outputs": [],
   "source": [
    "def get_completion(\n",
    "    messages: list[dict[str, str]],\n",
    "    model: str = \"gpt-4\",\n",
    "    max_tokens=500,\n",
    "    temperature=0,\n",
    "    stop=None,\n",
    "    seed=123,\n",
    "    tools=None,\n",
    "    logprobs=None, \n",
    "    top_logprobs=None,\n",
    ") -> str:\n",
    "    params = {\n",
    "        \"model\": model,\n",
    "        \"messages\": messages,\n",
    "        \"max_tokens\": max_tokens,\n",
    "        \"temperature\": temperature,\n",
    "        \"stop\": stop,\n",
    "        \"seed\": seed,\n",
    "        \"logprobs\": True,\n",
    "        \"top_logprobs\": top_logprobs,\n",
    "    }\n",
    "    if tools:\n",
    "        params[\"tools\"] = tools\n",
    "\n",
    "    completion = client.chat.completions.create(**params)\n",
    "    return completion"
   ]
  },
  {
   "cell_type": "code",
   "execution_count": null,
   "id": "650e204c-de0d-4410-b171-e7f69151dd95",
   "metadata": {},
   "outputs": [],
   "source": [
    "API_RESPONSE = get_completion(\n",
    "        [{\"role\": \"user\", \"content\": \"What is the First Name of the US President in 2023. Only responding with one single word is very important!\"}],\n",
    "        model=\"gpt-4o\",\n",
    "        logprobs=True,\n",
    "        top_logprobs=5,\n",
    ")\n",
    "top_two_logprobs = API_RESPONSE.choices[0].logprobs.content[0].top_logprobs\n",
    "html_content = \"\"\n",
    "dataListUSProb = []\n",
    "dataListUSName = []\n",
    "for i, logprob in enumerate(top_two_logprobs, start=1):\n",
    "    html_content += (\n",
    "        f\"<span style='color: cyan'>Output token {i}:</span> {logprob.token}, \"\n",
    "        f\"<span style='color: darkorange'>logprobs:</span> {logprob.logprob}, \"\n",
    "        f\"<span style='color: magenta'>linear probability:</span> {np.round(np.exp(logprob.logprob)*100,2)}%<br>\"\n",
    "    )\n",
    "    dataListUSProb.append(np.round(np.exp(logprob.logprob)*100,4))\n",
    "    dataListUSName.append(logprob.token)\n",
    "display(HTML(html_content))\n",
    "print(\"\\n\")"
   ]
  },
  {
   "cell_type": "code",
   "execution_count": null,
   "id": "a3adaa10-db82-4b46-95c0-74394b43b4c4",
   "metadata": {},
   "outputs": [],
   "source": [
    "API_RESPONSE = get_completion(\n",
    "        [{\"role\": \"user\", \"content\": \"Choose a colour between red, yellow, blue, golden and green. Be random! Only respond with one single word!\"}],\n",
    "        model=\"gpt-4o\",\n",
    "        logprobs=True,\n",
    "        top_logprobs=5,\n",
    ")\n",
    "top_two_logprobs = API_RESPONSE.choices[0].logprobs.content[0].top_logprobs\n",
    "html_content = \"\"\n",
    "dataListColourProb = []\n",
    "dataListColourName = []\n",
    "for i, logprob in enumerate(top_two_logprobs, start=1):\n",
    "    html_content += (\n",
    "        f\"<span style='color: cyan'>Output token {i}:</span> {logprob.token}, \"\n",
    "        f\"<span style='color: darkorange'>logprobs:</span> {logprob.logprob}, \"\n",
    "        f\"<span style='color: magenta'>linear probability:</span> {np.round(np.exp(logprob.logprob)*100,2)}%<br>\"\n",
    "    )\n",
    "    dataListColourProb.append(np.round(np.exp(logprob.logprob)*100,2))\n",
    "    dataListColourName.append(logprob.token)\n",
    "display(HTML(html_content))\n",
    "print(\"\\n\")"
   ]
  },
  {
   "cell_type": "code",
   "execution_count": null,
   "id": "eb91ce5c-9b0b-494f-a6b1-873e23b3b514",
   "metadata": {},
   "outputs": [],
   "source": [
    "sns.set_style('darkgrid')\n",
    "\n",
    "fx, (ax1,ax2)= plt.subplots(1, 2, figsize=(10, 5))\n",
    "ax1.bar(dataListColourName,dataListColourProb,width=0.1, color='black')\n",
    "ax1.set_xlabel('\\n Response', size=18)\n",
    "ax1.set_ylabel('\\n prob(Response) [%]', size=18)\n",
    "ax1.set_ylim([0,100])\n",
    "ax1.set_title('Choose a colour!')\n",
    "\n",
    "\n",
    "\n",
    "ax2.bar(dataListUSName,dataListUSProb,width=0.1, color='black')\n",
    "ax2.set_xlabel('\\n Response', size=18)\n",
    "ax2.set_ylabel(' ', size=18)\n",
    "ax2.set_ylim([0,100])\n",
    "ax2.set_title('What was the first name of the US President in 2023?')\n",
    "ax2.set_yticklabels('')\n",
    "\n",
    "plt.tight_layout()\n"
   ]
  },
  {
   "cell_type": "code",
   "execution_count": null,
   "id": "b7f9ba3d-d8c8-419f-9ab8-5c98d9dc79ea",
   "metadata": {},
   "outputs": [],
   "source": []
  },
  {
   "cell_type": "code",
   "execution_count": null,
   "id": "bf2c582d-68eb-40bc-974a-f75e66df80ce",
   "metadata": {},
   "outputs": [],
   "source": []
  },
  {
   "cell_type": "code",
   "execution_count": null,
   "id": "97b838a1-a7a0-4149-8d73-f8129063d7c9",
   "metadata": {},
   "outputs": [],
   "source": []
  }
 ],
 "metadata": {
  "kernelspec": {
   "display_name": "Python 3 (ipykernel)",
   "language": "python",
   "name": "python3"
  },
  "language_info": {
   "codemirror_mode": {
    "name": "ipython",
    "version": 3
   },
   "file_extension": ".py",
   "mimetype": "text/x-python",
   "name": "python",
   "nbconvert_exporter": "python",
   "pygments_lexer": "ipython3",
   "version": "3.11.8"
  }
 },
 "nbformat": 4,
 "nbformat_minor": 5
}
